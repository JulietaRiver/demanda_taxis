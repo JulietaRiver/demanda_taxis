{
 "cells": [
  {
   "cell_type": "markdown",
   "metadata": {},
   "source": [
    "Introducción del proyecto: se analizarán los viajes de la compañía de taxis el 15 y 16 de noviembre par determinar cuáles son los barrios principales por el número de finalizaciones, duración promedio de los viajes"
   ]
  },
  {
   "cell_type": "code",
   "execution_count": 1,
   "metadata": {
    "trusted": false
   },
   "outputs": [],
   "source": [
    "# Importa pandas para el manejo de los DataFrame\n",
    "import pandas as pd\n",
    "# Importa numpy para\n",
    "import numpy as np\n",
    "import matplotlib.pyplot as plt\n",
    "from scipy import stats as st"
   ]
  },
  {
   "cell_type": "code",
   "execution_count": 2,
   "metadata": {
    "trusted": false
   },
   "outputs": [],
   "source": [
    "#cargar los datos:\n",
    "company_trips = pd.read_csv(\"/datasets/project_sql_result_01.csv\")\n",
    "location_average = pd.read_csv(\"/datasets/project_sql_result_04.csv\")\n",
    "duration_trip = pd.read_csv (\"/datasets/project_sql_result_07.csv\")\n",
    "\n"
   ]
  },
  {
   "cell_type": "code",
   "execution_count": 3,
   "metadata": {
    "trusted": false
   },
   "outputs": [
    {
     "name": "stdout",
     "output_type": "stream",
     "text": [
      "<class 'pandas.core.frame.DataFrame'>\n",
      "RangeIndex: 64 entries, 0 to 63\n",
      "Data columns (total 2 columns):\n",
      " #   Column        Non-Null Count  Dtype \n",
      "---  ------        --------------  ----- \n",
      " 0   company_name  64 non-null     object\n",
      " 1   trips_amount  64 non-null     int64 \n",
      "dtypes: int64(1), object(1)\n",
      "memory usage: 1.1+ KB\n"
     ]
    }
   ],
   "source": [
    "company_trips.info()"
   ]
  },
  {
   "cell_type": "code",
   "execution_count": 4,
   "metadata": {
    "trusted": false
   },
   "outputs": [
    {
     "data": {
      "text/html": [
       "<div>\n",
       "<style scoped>\n",
       "    .dataframe tbody tr th:only-of-type {\n",
       "        vertical-align: middle;\n",
       "    }\n",
       "\n",
       "    .dataframe tbody tr th {\n",
       "        vertical-align: top;\n",
       "    }\n",
       "\n",
       "    .dataframe thead th {\n",
       "        text-align: right;\n",
       "    }\n",
       "</style>\n",
       "<table border=\"1\" class=\"dataframe\">\n",
       "  <thead>\n",
       "    <tr style=\"text-align: right;\">\n",
       "      <th></th>\n",
       "      <th>company_name</th>\n",
       "      <th>trips_amount</th>\n",
       "    </tr>\n",
       "  </thead>\n",
       "  <tbody>\n",
       "    <tr>\n",
       "      <th>0</th>\n",
       "      <td>Flash Cab</td>\n",
       "      <td>19558</td>\n",
       "    </tr>\n",
       "    <tr>\n",
       "      <th>1</th>\n",
       "      <td>Taxi Affiliation Services</td>\n",
       "      <td>11422</td>\n",
       "    </tr>\n",
       "    <tr>\n",
       "      <th>2</th>\n",
       "      <td>Medallion Leasing</td>\n",
       "      <td>10367</td>\n",
       "    </tr>\n",
       "    <tr>\n",
       "      <th>3</th>\n",
       "      <td>Yellow Cab</td>\n",
       "      <td>9888</td>\n",
       "    </tr>\n",
       "    <tr>\n",
       "      <th>4</th>\n",
       "      <td>Taxi Affiliation Service Yellow</td>\n",
       "      <td>9299</td>\n",
       "    </tr>\n",
       "    <tr>\n",
       "      <th>...</th>\n",
       "      <td>...</td>\n",
       "      <td>...</td>\n",
       "    </tr>\n",
       "    <tr>\n",
       "      <th>59</th>\n",
       "      <td>4053 - 40193 Adwar H. Nikola</td>\n",
       "      <td>7</td>\n",
       "    </tr>\n",
       "    <tr>\n",
       "      <th>60</th>\n",
       "      <td>2733 - 74600 Benny Jona</td>\n",
       "      <td>7</td>\n",
       "    </tr>\n",
       "    <tr>\n",
       "      <th>61</th>\n",
       "      <td>5874 - 73628 Sergey Cab Corp.</td>\n",
       "      <td>5</td>\n",
       "    </tr>\n",
       "    <tr>\n",
       "      <th>62</th>\n",
       "      <td>2241 - 44667 - Felman Corp</td>\n",
       "      <td>3</td>\n",
       "    </tr>\n",
       "    <tr>\n",
       "      <th>63</th>\n",
       "      <td>3556 - 36214 RC Andrews Cab</td>\n",
       "      <td>2</td>\n",
       "    </tr>\n",
       "  </tbody>\n",
       "</table>\n",
       "<p>64 rows × 2 columns</p>\n",
       "</div>"
      ],
      "text/plain": [
       "                       company_name  trips_amount\n",
       "0                         Flash Cab         19558\n",
       "1         Taxi Affiliation Services         11422\n",
       "2                 Medallion Leasing         10367\n",
       "3                        Yellow Cab          9888\n",
       "4   Taxi Affiliation Service Yellow          9299\n",
       "..                              ...           ...\n",
       "59     4053 - 40193 Adwar H. Nikola             7\n",
       "60          2733 - 74600 Benny Jona             7\n",
       "61    5874 - 73628 Sergey Cab Corp.             5\n",
       "62       2241 - 44667 - Felman Corp             3\n",
       "63      3556 - 36214 RC Andrews Cab             2\n",
       "\n",
       "[64 rows x 2 columns]"
      ]
     },
     "execution_count": 4,
     "metadata": {},
     "output_type": "execute_result"
    }
   ],
   "source": [
    "company_trips"
   ]
  },
  {
   "cell_type": "code",
   "execution_count": 5,
   "metadata": {
    "trusted": false
   },
   "outputs": [
    {
     "name": "stdout",
     "output_type": "stream",
     "text": [
      "company_name    0\n",
      "trips_amount    0\n",
      "dtype: int64\n"
     ]
    }
   ],
   "source": [
    "#contar los valores ausentes\n",
    "print(company_trips.isna().sum())"
   ]
  },
  {
   "cell_type": "code",
   "execution_count": 6,
   "metadata": {
    "trusted": false
   },
   "outputs": [
    {
     "name": "stdout",
     "output_type": "stream",
     "text": [
      "Número de duplicados en 'company_name': 0\n"
     ]
    }
   ],
   "source": [
    "#contar valores duplicados\n",
    "duplicados = company_trips['company_name'].duplicated().sum()\n",
    "\n",
    "print(f\"Número de duplicados en 'company_name': {duplicados}\")"
   ]
  },
  {
   "cell_type": "code",
   "execution_count": 7,
   "metadata": {
    "trusted": false
   },
   "outputs": [
    {
     "name": "stdout",
     "output_type": "stream",
     "text": [
      "<bound method NDFrame.tail of 0                           Flash Cab\n",
      "1           Taxi Affiliation Services\n",
      "2                   Medallion Leasing\n",
      "3                          Yellow Cab\n",
      "4     Taxi Affiliation Service Yellow\n",
      "                   ...               \n",
      "59       4053 - 40193 Adwar H. Nikola\n",
      "60            2733 - 74600 Benny Jona\n",
      "61      5874 - 73628 Sergey Cab Corp.\n",
      "62         2241 - 44667 - Felman Corp\n",
      "63        3556 - 36214 RC Andrews Cab\n",
      "Name: company_name, Length: 64, dtype: object>\n"
     ]
    }
   ],
   "source": [
    "print(company_trips[\"company_name\"].tail)"
   ]
  },
  {
   "cell_type": "markdown",
   "metadata": {},
   "source": [
    "se puede hallar que en la tabla company_trips, no existen valores ausentes, no hay datos duplicados, pero si se puede observar que en la columna de nombre de companía existen números, tal vez sean número de ID, que se mezclaron, por ello se creará la columna de ID"
   ]
  },
  {
   "cell_type": "code",
   "execution_count": 8,
   "metadata": {
    "scrolled": true,
    "trusted": false
   },
   "outputs": [
    {
     "name": "stdout",
     "output_type": "stream",
     "text": [
      "                       company_name  trips_amount company_id\n",
      "0                         Flash Cab         19558        NaN\n",
      "1         Taxi Affiliation Services         11422        NaN\n",
      "2                 Medallion Leasing         10367        NaN\n",
      "3                        Yellow Cab          9888        NaN\n",
      "4   Taxi Affiliation Service Yellow          9299        NaN\n",
      "..                              ...           ...        ...\n",
      "59     4053 - 40193 Adwar H. Nikola             7       4053\n",
      "60          2733 - 74600 Benny Jona             7       2733\n",
      "61    5874 - 73628 Sergey Cab Corp.             5       5874\n",
      "62       2241 - 44667 - Felman Corp             3       2241\n",
      "63      3556 - 36214 RC Andrews Cab             2       3556\n",
      "\n",
      "[64 rows x 3 columns]\n"
     ]
    }
   ],
   "source": [
    "# Extraer los números de la columna 'company_name' y crear la nueva columna 'company_id'\n",
    "company_trips['company_id'] = company_trips['company_name'].str.extract('(\\d+)')\n",
    "\n",
    "# Mostrar el DataFrame actualizado\n",
    "print(company_trips)"
   ]
  },
  {
   "cell_type": "code",
   "execution_count": 9,
   "metadata": {
    "trusted": false
   },
   "outputs": [],
   "source": [
    "#ahora se rellenan los valores ausentes de la columna company_id\n",
    "\n",
    "company_trips['company_id'].fillna(0, inplace=True) "
   ]
  },
  {
   "cell_type": "code",
   "execution_count": 10,
   "metadata": {
    "trusted": false
   },
   "outputs": [
    {
     "name": "stdout",
     "output_type": "stream",
     "text": [
      "<class 'pandas.core.frame.DataFrame'>\n",
      "RangeIndex: 64 entries, 0 to 63\n",
      "Data columns (total 3 columns):\n",
      " #   Column        Non-Null Count  Dtype \n",
      "---  ------        --------------  ----- \n",
      " 0   company_name  64 non-null     object\n",
      " 1   trips_amount  64 non-null     int64 \n",
      " 2   company_id    64 non-null     object\n",
      "dtypes: int64(1), object(2)\n",
      "memory usage: 1.6+ KB\n"
     ]
    }
   ],
   "source": [
    "company_trips.info()"
   ]
  },
  {
   "cell_type": "code",
   "execution_count": 11,
   "metadata": {
    "trusted": false
   },
   "outputs": [
    {
     "data": {
      "text/html": [
       "<div>\n",
       "<style scoped>\n",
       "    .dataframe tbody tr th:only-of-type {\n",
       "        vertical-align: middle;\n",
       "    }\n",
       "\n",
       "    .dataframe tbody tr th {\n",
       "        vertical-align: top;\n",
       "    }\n",
       "\n",
       "    .dataframe thead th {\n",
       "        text-align: right;\n",
       "    }\n",
       "</style>\n",
       "<table border=\"1\" class=\"dataframe\">\n",
       "  <thead>\n",
       "    <tr style=\"text-align: right;\">\n",
       "      <th></th>\n",
       "      <th>company_name</th>\n",
       "      <th>trips_amount</th>\n",
       "      <th>company_id</th>\n",
       "    </tr>\n",
       "  </thead>\n",
       "  <tbody>\n",
       "    <tr>\n",
       "      <th>0</th>\n",
       "      <td>Flash Cab</td>\n",
       "      <td>19558</td>\n",
       "      <td>0</td>\n",
       "    </tr>\n",
       "    <tr>\n",
       "      <th>1</th>\n",
       "      <td>Taxi Affiliation Services</td>\n",
       "      <td>11422</td>\n",
       "      <td>0</td>\n",
       "    </tr>\n",
       "    <tr>\n",
       "      <th>2</th>\n",
       "      <td>Medallion Leasing</td>\n",
       "      <td>10367</td>\n",
       "      <td>0</td>\n",
       "    </tr>\n",
       "    <tr>\n",
       "      <th>3</th>\n",
       "      <td>Yellow Cab</td>\n",
       "      <td>9888</td>\n",
       "      <td>0</td>\n",
       "    </tr>\n",
       "    <tr>\n",
       "      <th>4</th>\n",
       "      <td>Taxi Affiliation Service Yellow</td>\n",
       "      <td>9299</td>\n",
       "      <td>0</td>\n",
       "    </tr>\n",
       "    <tr>\n",
       "      <th>...</th>\n",
       "      <td>...</td>\n",
       "      <td>...</td>\n",
       "      <td>...</td>\n",
       "    </tr>\n",
       "    <tr>\n",
       "      <th>59</th>\n",
       "      <td>4053 - 40193 Adwar H. Nikola</td>\n",
       "      <td>7</td>\n",
       "      <td>4053</td>\n",
       "    </tr>\n",
       "    <tr>\n",
       "      <th>60</th>\n",
       "      <td>2733 - 74600 Benny Jona</td>\n",
       "      <td>7</td>\n",
       "      <td>2733</td>\n",
       "    </tr>\n",
       "    <tr>\n",
       "      <th>61</th>\n",
       "      <td>5874 - 73628 Sergey Cab Corp.</td>\n",
       "      <td>5</td>\n",
       "      <td>5874</td>\n",
       "    </tr>\n",
       "    <tr>\n",
       "      <th>62</th>\n",
       "      <td>2241 - 44667 - Felman Corp</td>\n",
       "      <td>3</td>\n",
       "      <td>2241</td>\n",
       "    </tr>\n",
       "    <tr>\n",
       "      <th>63</th>\n",
       "      <td>3556 - 36214 RC Andrews Cab</td>\n",
       "      <td>2</td>\n",
       "      <td>3556</td>\n",
       "    </tr>\n",
       "  </tbody>\n",
       "</table>\n",
       "<p>64 rows × 3 columns</p>\n",
       "</div>"
      ],
      "text/plain": [
       "                       company_name  trips_amount company_id\n",
       "0                         Flash Cab         19558          0\n",
       "1         Taxi Affiliation Services         11422          0\n",
       "2                 Medallion Leasing         10367          0\n",
       "3                        Yellow Cab          9888          0\n",
       "4   Taxi Affiliation Service Yellow          9299          0\n",
       "..                              ...           ...        ...\n",
       "59     4053 - 40193 Adwar H. Nikola             7       4053\n",
       "60          2733 - 74600 Benny Jona             7       2733\n",
       "61    5874 - 73628 Sergey Cab Corp.             5       5874\n",
       "62       2241 - 44667 - Felman Corp             3       2241\n",
       "63      3556 - 36214 RC Andrews Cab             2       3556\n",
       "\n",
       "[64 rows x 3 columns]"
      ]
     },
     "execution_count": 11,
     "metadata": {},
     "output_type": "execute_result"
    }
   ],
   "source": [
    "company_trips"
   ]
  },
  {
   "cell_type": "code",
   "execution_count": 12,
   "metadata": {
    "trusted": false
   },
   "outputs": [
    {
     "data": {
      "text/html": [
       "<div>\n",
       "<style scoped>\n",
       "    .dataframe tbody tr th:only-of-type {\n",
       "        vertical-align: middle;\n",
       "    }\n",
       "\n",
       "    .dataframe tbody tr th {\n",
       "        vertical-align: top;\n",
       "    }\n",
       "\n",
       "    .dataframe thead th {\n",
       "        text-align: right;\n",
       "    }\n",
       "</style>\n",
       "<table border=\"1\" class=\"dataframe\">\n",
       "  <thead>\n",
       "    <tr style=\"text-align: right;\">\n",
       "      <th></th>\n",
       "      <th>dropoff_location_name</th>\n",
       "      <th>average_trips</th>\n",
       "    </tr>\n",
       "  </thead>\n",
       "  <tbody>\n",
       "    <tr>\n",
       "      <th>0</th>\n",
       "      <td>Loop</td>\n",
       "      <td>10727.466667</td>\n",
       "    </tr>\n",
       "    <tr>\n",
       "      <th>1</th>\n",
       "      <td>River North</td>\n",
       "      <td>9523.666667</td>\n",
       "    </tr>\n",
       "    <tr>\n",
       "      <th>2</th>\n",
       "      <td>Streeterville</td>\n",
       "      <td>6664.666667</td>\n",
       "    </tr>\n",
       "    <tr>\n",
       "      <th>3</th>\n",
       "      <td>West Loop</td>\n",
       "      <td>5163.666667</td>\n",
       "    </tr>\n",
       "    <tr>\n",
       "      <th>4</th>\n",
       "      <td>O'Hare</td>\n",
       "      <td>2546.900000</td>\n",
       "    </tr>\n",
       "    <tr>\n",
       "      <th>...</th>\n",
       "      <td>...</td>\n",
       "      <td>...</td>\n",
       "    </tr>\n",
       "    <tr>\n",
       "      <th>89</th>\n",
       "      <td>Mount Greenwood</td>\n",
       "      <td>3.137931</td>\n",
       "    </tr>\n",
       "    <tr>\n",
       "      <th>90</th>\n",
       "      <td>Hegewisch</td>\n",
       "      <td>3.117647</td>\n",
       "    </tr>\n",
       "    <tr>\n",
       "      <th>91</th>\n",
       "      <td>Burnside</td>\n",
       "      <td>2.333333</td>\n",
       "    </tr>\n",
       "    <tr>\n",
       "      <th>92</th>\n",
       "      <td>East Side</td>\n",
       "      <td>1.961538</td>\n",
       "    </tr>\n",
       "    <tr>\n",
       "      <th>93</th>\n",
       "      <td>Riverdale</td>\n",
       "      <td>1.800000</td>\n",
       "    </tr>\n",
       "  </tbody>\n",
       "</table>\n",
       "<p>94 rows × 2 columns</p>\n",
       "</div>"
      ],
      "text/plain": [
       "   dropoff_location_name  average_trips\n",
       "0                   Loop   10727.466667\n",
       "1            River North    9523.666667\n",
       "2          Streeterville    6664.666667\n",
       "3              West Loop    5163.666667\n",
       "4                 O'Hare    2546.900000\n",
       "..                   ...            ...\n",
       "89       Mount Greenwood       3.137931\n",
       "90             Hegewisch       3.117647\n",
       "91              Burnside       2.333333\n",
       "92             East Side       1.961538\n",
       "93             Riverdale       1.800000\n",
       "\n",
       "[94 rows x 2 columns]"
      ]
     },
     "execution_count": 12,
     "metadata": {},
     "output_type": "execute_result"
    }
   ],
   "source": [
    "location_average "
   ]
  },
  {
   "cell_type": "code",
   "execution_count": 13,
   "metadata": {
    "trusted": false
   },
   "outputs": [
    {
     "name": "stdout",
     "output_type": "stream",
     "text": [
      "dropoff_location_name    0\n",
      "average_trips            0\n",
      "dtype: int64\n"
     ]
    }
   ],
   "source": [
    "#contar los valores ausentes\n",
    "print(location_average.isna().sum()) # no se hallaron valores ausentes en el dataframe"
   ]
  },
  {
   "cell_type": "code",
   "execution_count": 14,
   "metadata": {
    "trusted": false
   },
   "outputs": [
    {
     "name": "stdout",
     "output_type": "stream",
     "text": [
      "Número de duplicados en 'dropoff_location_name': 0\n"
     ]
    }
   ],
   "source": [
    "#contar valores duplicados\n",
    "duplicados = location_average['dropoff_location_name'].duplicated().sum()\n",
    "\n",
    "print(f\"Número de duplicados en 'dropoff_location_name': {duplicados}\")"
   ]
  },
  {
   "cell_type": "code",
   "execution_count": 15,
   "metadata": {
    "trusted": false
   },
   "outputs": [],
   "source": [
    "#convertir la columna average_trips en int\n",
    "location_average[\"average_trips\"]= location_average[\"average_trips\"].astype(\"int\")"
   ]
  },
  {
   "cell_type": "code",
   "execution_count": 16,
   "metadata": {
    "trusted": false
   },
   "outputs": [
    {
     "data": {
      "text/html": [
       "<div>\n",
       "<style scoped>\n",
       "    .dataframe tbody tr th:only-of-type {\n",
       "        vertical-align: middle;\n",
       "    }\n",
       "\n",
       "    .dataframe tbody tr th {\n",
       "        vertical-align: top;\n",
       "    }\n",
       "\n",
       "    .dataframe thead th {\n",
       "        text-align: right;\n",
       "    }\n",
       "</style>\n",
       "<table border=\"1\" class=\"dataframe\">\n",
       "  <thead>\n",
       "    <tr style=\"text-align: right;\">\n",
       "      <th></th>\n",
       "      <th>dropoff_location_name</th>\n",
       "      <th>average_trips</th>\n",
       "    </tr>\n",
       "  </thead>\n",
       "  <tbody>\n",
       "    <tr>\n",
       "      <th>0</th>\n",
       "      <td>Loop</td>\n",
       "      <td>10727</td>\n",
       "    </tr>\n",
       "    <tr>\n",
       "      <th>1</th>\n",
       "      <td>River North</td>\n",
       "      <td>9523</td>\n",
       "    </tr>\n",
       "    <tr>\n",
       "      <th>2</th>\n",
       "      <td>Streeterville</td>\n",
       "      <td>6664</td>\n",
       "    </tr>\n",
       "    <tr>\n",
       "      <th>3</th>\n",
       "      <td>West Loop</td>\n",
       "      <td>5163</td>\n",
       "    </tr>\n",
       "    <tr>\n",
       "      <th>4</th>\n",
       "      <td>O'Hare</td>\n",
       "      <td>2546</td>\n",
       "    </tr>\n",
       "    <tr>\n",
       "      <th>...</th>\n",
       "      <td>...</td>\n",
       "      <td>...</td>\n",
       "    </tr>\n",
       "    <tr>\n",
       "      <th>89</th>\n",
       "      <td>Mount Greenwood</td>\n",
       "      <td>3</td>\n",
       "    </tr>\n",
       "    <tr>\n",
       "      <th>90</th>\n",
       "      <td>Hegewisch</td>\n",
       "      <td>3</td>\n",
       "    </tr>\n",
       "    <tr>\n",
       "      <th>91</th>\n",
       "      <td>Burnside</td>\n",
       "      <td>2</td>\n",
       "    </tr>\n",
       "    <tr>\n",
       "      <th>92</th>\n",
       "      <td>East Side</td>\n",
       "      <td>1</td>\n",
       "    </tr>\n",
       "    <tr>\n",
       "      <th>93</th>\n",
       "      <td>Riverdale</td>\n",
       "      <td>1</td>\n",
       "    </tr>\n",
       "  </tbody>\n",
       "</table>\n",
       "<p>94 rows × 2 columns</p>\n",
       "</div>"
      ],
      "text/plain": [
       "   dropoff_location_name  average_trips\n",
       "0                   Loop          10727\n",
       "1            River North           9523\n",
       "2          Streeterville           6664\n",
       "3              West Loop           5163\n",
       "4                 O'Hare           2546\n",
       "..                   ...            ...\n",
       "89       Mount Greenwood              3\n",
       "90             Hegewisch              3\n",
       "91              Burnside              2\n",
       "92             East Side              1\n",
       "93             Riverdale              1\n",
       "\n",
       "[94 rows x 2 columns]"
      ]
     },
     "execution_count": 16,
     "metadata": {},
     "output_type": "execute_result"
    }
   ],
   "source": [
    "location_average"
   ]
  },
  {
   "cell_type": "code",
   "execution_count": 17,
   "metadata": {
    "scrolled": true,
    "trusted": false
   },
   "outputs": [
    {
     "data": {
      "text/html": [
       "<div>\n",
       "<style scoped>\n",
       "    .dataframe tbody tr th:only-of-type {\n",
       "        vertical-align: middle;\n",
       "    }\n",
       "\n",
       "    .dataframe tbody tr th {\n",
       "        vertical-align: top;\n",
       "    }\n",
       "\n",
       "    .dataframe thead th {\n",
       "        text-align: right;\n",
       "    }\n",
       "</style>\n",
       "<table border=\"1\" class=\"dataframe\">\n",
       "  <thead>\n",
       "    <tr style=\"text-align: right;\">\n",
       "      <th></th>\n",
       "      <th>start_ts</th>\n",
       "      <th>weather_conditions</th>\n",
       "      <th>duration_seconds</th>\n",
       "    </tr>\n",
       "  </thead>\n",
       "  <tbody>\n",
       "    <tr>\n",
       "      <th>0</th>\n",
       "      <td>2017-11-25 16:00:00</td>\n",
       "      <td>Good</td>\n",
       "      <td>2410.0</td>\n",
       "    </tr>\n",
       "    <tr>\n",
       "      <th>1</th>\n",
       "      <td>2017-11-25 14:00:00</td>\n",
       "      <td>Good</td>\n",
       "      <td>1920.0</td>\n",
       "    </tr>\n",
       "    <tr>\n",
       "      <th>2</th>\n",
       "      <td>2017-11-25 12:00:00</td>\n",
       "      <td>Good</td>\n",
       "      <td>1543.0</td>\n",
       "    </tr>\n",
       "    <tr>\n",
       "      <th>3</th>\n",
       "      <td>2017-11-04 10:00:00</td>\n",
       "      <td>Good</td>\n",
       "      <td>2512.0</td>\n",
       "    </tr>\n",
       "    <tr>\n",
       "      <th>4</th>\n",
       "      <td>2017-11-11 07:00:00</td>\n",
       "      <td>Good</td>\n",
       "      <td>1440.0</td>\n",
       "    </tr>\n",
       "    <tr>\n",
       "      <th>...</th>\n",
       "      <td>...</td>\n",
       "      <td>...</td>\n",
       "      <td>...</td>\n",
       "    </tr>\n",
       "    <tr>\n",
       "      <th>1063</th>\n",
       "      <td>2017-11-25 11:00:00</td>\n",
       "      <td>Good</td>\n",
       "      <td>0.0</td>\n",
       "    </tr>\n",
       "    <tr>\n",
       "      <th>1064</th>\n",
       "      <td>2017-11-11 10:00:00</td>\n",
       "      <td>Good</td>\n",
       "      <td>1318.0</td>\n",
       "    </tr>\n",
       "    <tr>\n",
       "      <th>1065</th>\n",
       "      <td>2017-11-11 13:00:00</td>\n",
       "      <td>Good</td>\n",
       "      <td>2100.0</td>\n",
       "    </tr>\n",
       "    <tr>\n",
       "      <th>1066</th>\n",
       "      <td>2017-11-11 08:00:00</td>\n",
       "      <td>Good</td>\n",
       "      <td>1380.0</td>\n",
       "    </tr>\n",
       "    <tr>\n",
       "      <th>1067</th>\n",
       "      <td>2017-11-04 16:00:00</td>\n",
       "      <td>Bad</td>\n",
       "      <td>2834.0</td>\n",
       "    </tr>\n",
       "  </tbody>\n",
       "</table>\n",
       "<p>1068 rows × 3 columns</p>\n",
       "</div>"
      ],
      "text/plain": [
       "                 start_ts weather_conditions  duration_seconds\n",
       "0     2017-11-25 16:00:00               Good            2410.0\n",
       "1     2017-11-25 14:00:00               Good            1920.0\n",
       "2     2017-11-25 12:00:00               Good            1543.0\n",
       "3     2017-11-04 10:00:00               Good            2512.0\n",
       "4     2017-11-11 07:00:00               Good            1440.0\n",
       "...                   ...                ...               ...\n",
       "1063  2017-11-25 11:00:00               Good               0.0\n",
       "1064  2017-11-11 10:00:00               Good            1318.0\n",
       "1065  2017-11-11 13:00:00               Good            2100.0\n",
       "1066  2017-11-11 08:00:00               Good            1380.0\n",
       "1067  2017-11-04 16:00:00                Bad            2834.0\n",
       "\n",
       "[1068 rows x 3 columns]"
      ]
     },
     "execution_count": 17,
     "metadata": {},
     "output_type": "execute_result"
    }
   ],
   "source": [
    "duration_trip"
   ]
  },
  {
   "cell_type": "code",
   "execution_count": 18,
   "metadata": {
    "trusted": false
   },
   "outputs": [
    {
     "name": "stdout",
     "output_type": "stream",
     "text": [
      "start_ts              0\n",
      "weather_conditions    0\n",
      "duration_seconds      0\n",
      "dtype: int64\n"
     ]
    }
   ],
   "source": [
    "#contar los valores ausentes\n",
    "print(duration_trip.isna().sum()) # no se hayaron valores ausentes"
   ]
  },
  {
   "cell_type": "code",
   "execution_count": 19,
   "metadata": {
    "trusted": false
   },
   "outputs": [],
   "source": [
    "#convertir tipo de datos start ts a datetime\n",
    "duration_trip['start_ts'] = pd.to_datetime(duration_trip['start_ts'], format='%Y-%m-%d')"
   ]
  },
  {
   "cell_type": "code",
   "execution_count": 20,
   "metadata": {
    "trusted": false
   },
   "outputs": [
    {
     "data": {
      "text/html": [
       "<div>\n",
       "<style scoped>\n",
       "    .dataframe tbody tr th:only-of-type {\n",
       "        vertical-align: middle;\n",
       "    }\n",
       "\n",
       "    .dataframe tbody tr th {\n",
       "        vertical-align: top;\n",
       "    }\n",
       "\n",
       "    .dataframe thead th {\n",
       "        text-align: right;\n",
       "    }\n",
       "</style>\n",
       "<table border=\"1\" class=\"dataframe\">\n",
       "  <thead>\n",
       "    <tr style=\"text-align: right;\">\n",
       "      <th></th>\n",
       "      <th>start_ts</th>\n",
       "      <th>weather_conditions</th>\n",
       "      <th>duration_seconds</th>\n",
       "    </tr>\n",
       "  </thead>\n",
       "  <tbody>\n",
       "    <tr>\n",
       "      <th>0</th>\n",
       "      <td>2017-11-25 16:00:00</td>\n",
       "      <td>Good</td>\n",
       "      <td>2410.0</td>\n",
       "    </tr>\n",
       "    <tr>\n",
       "      <th>1</th>\n",
       "      <td>2017-11-25 14:00:00</td>\n",
       "      <td>Good</td>\n",
       "      <td>1920.0</td>\n",
       "    </tr>\n",
       "    <tr>\n",
       "      <th>2</th>\n",
       "      <td>2017-11-25 12:00:00</td>\n",
       "      <td>Good</td>\n",
       "      <td>1543.0</td>\n",
       "    </tr>\n",
       "    <tr>\n",
       "      <th>3</th>\n",
       "      <td>2017-11-04 10:00:00</td>\n",
       "      <td>Good</td>\n",
       "      <td>2512.0</td>\n",
       "    </tr>\n",
       "    <tr>\n",
       "      <th>4</th>\n",
       "      <td>2017-11-11 07:00:00</td>\n",
       "      <td>Good</td>\n",
       "      <td>1440.0</td>\n",
       "    </tr>\n",
       "    <tr>\n",
       "      <th>...</th>\n",
       "      <td>...</td>\n",
       "      <td>...</td>\n",
       "      <td>...</td>\n",
       "    </tr>\n",
       "    <tr>\n",
       "      <th>1063</th>\n",
       "      <td>2017-11-25 11:00:00</td>\n",
       "      <td>Good</td>\n",
       "      <td>0.0</td>\n",
       "    </tr>\n",
       "    <tr>\n",
       "      <th>1064</th>\n",
       "      <td>2017-11-11 10:00:00</td>\n",
       "      <td>Good</td>\n",
       "      <td>1318.0</td>\n",
       "    </tr>\n",
       "    <tr>\n",
       "      <th>1065</th>\n",
       "      <td>2017-11-11 13:00:00</td>\n",
       "      <td>Good</td>\n",
       "      <td>2100.0</td>\n",
       "    </tr>\n",
       "    <tr>\n",
       "      <th>1066</th>\n",
       "      <td>2017-11-11 08:00:00</td>\n",
       "      <td>Good</td>\n",
       "      <td>1380.0</td>\n",
       "    </tr>\n",
       "    <tr>\n",
       "      <th>1067</th>\n",
       "      <td>2017-11-04 16:00:00</td>\n",
       "      <td>Bad</td>\n",
       "      <td>2834.0</td>\n",
       "    </tr>\n",
       "  </tbody>\n",
       "</table>\n",
       "<p>1068 rows × 3 columns</p>\n",
       "</div>"
      ],
      "text/plain": [
       "                start_ts weather_conditions  duration_seconds\n",
       "0    2017-11-25 16:00:00               Good            2410.0\n",
       "1    2017-11-25 14:00:00               Good            1920.0\n",
       "2    2017-11-25 12:00:00               Good            1543.0\n",
       "3    2017-11-04 10:00:00               Good            2512.0\n",
       "4    2017-11-11 07:00:00               Good            1440.0\n",
       "...                  ...                ...               ...\n",
       "1063 2017-11-25 11:00:00               Good               0.0\n",
       "1064 2017-11-11 10:00:00               Good            1318.0\n",
       "1065 2017-11-11 13:00:00               Good            2100.0\n",
       "1066 2017-11-11 08:00:00               Good            1380.0\n",
       "1067 2017-11-04 16:00:00                Bad            2834.0\n",
       "\n",
       "[1068 rows x 3 columns]"
      ]
     },
     "execution_count": 20,
     "metadata": {},
     "output_type": "execute_result"
    }
   ],
   "source": [
    "duration_trip"
   ]
  },
  {
   "cell_type": "code",
   "execution_count": 21,
   "metadata": {
    "trusted": false
   },
   "outputs": [
    {
     "data": {
      "image/png": "[encoded data removed]",
      "text/plain": [
       "<Figure size 1000x600 with 1 Axes>"
      ]
     },
     "metadata": {},
     "output_type": "display_data"
    }
   ],
   "source": [
    "# se observara los 10 primeros barrios en términos de finalizacion \n",
    "# Calcular el promedio de viajes por barrio y ordenar de forma descendente\n",
    "average_trips_per_neighborhood = (\n",
    "    location_average.groupby('dropoff_location_name')['average_trips']\n",
    "    .mean()\n",
    "    .sort_values(ascending=False)\n",
    "    .head(10)\n",
    ")\n",
    "\n",
    "# Crear la gráfica\n",
    "plt.figure(figsize=(10, 6))\n",
    "average_trips_per_neighborhood.plot(kind='bar', color='skyblue')\n",
    "\n",
    "plt.title('Promedio de viajes por barrio')\n",
    "plt.xlabel('Barrios')\n",
    "plt.ylabel('Promedio de viajes')\n",
    "\n",
    "# Mostrar la gráfica\n",
    "plt.xticks(rotation=45)  # Rotar las etiquetas del eje x para mejorar la legibilidad\n",
    "plt.tight_layout()  # Ajustar la gráfica para que no se corten las etiquetas\n",
    "plt.show()"
   ]
  },
  {
   "cell_type": "markdown",
   "metadata": {},
   "source": [
    "se puede observar que el barrio que tiene más viajes en promedio es loop, rebasando las 10,000 frecuencias, seguido de Rivera North, casi llegando a las 10,000, se puede observar que a apartir de O´Hare los viajes promedio descenden casi a 2000 \n",
    "\n",
    "conlusiones: hay una diferencia de 2016 entre West Loop a O´hare, dando un 26% de diferencia entre viajes, los tres primeros barrios hacen; los 3 primeros barrios: loop, river north y streeterville explican el 30% de los viajes de todo el data frame.\n"
   ]
  },
  {
   "cell_type": "code",
   "execution_count": 28,
   "metadata": {
    "scrolled": false,
    "trusted": false
   },
   "outputs": [
    {
     "name": "stdout",
     "output_type": "stream",
     "text": [
      "Duración promedio en sábados lluviosos: 2427.21 segundos\n",
      "Duración promedio en otros días: nan segundos\n",
      "Estadística t: nan\n",
      "Valor p: nan\n",
      "No rechazamos la hipótesis nula: no hay evidencia suficiente para afirmar que la duración promedio de los viajes cambia los sábados lluviosos.\n"
     ]
    }
   ],
   "source": [
    "import pandas as pd\n",
    "import numpy as np\n",
    "from scipy import stats\n",
    "#Prueba de hipótesis para los días lluevioso\n",
    "# Filtrar los sábados\n",
    "duration_trip['day_of_week'] = duration_trip['start_ts'].dt.day_name()\n",
    "saturdays = duration_trip[duration_trip['day_of_week'] == 'Saturday']\n",
    "\n",
    "# Filtrar los sábados lluviosos\n",
    "rainy_saturdays = saturdays[saturdays['weather_conditions'] == 'Bad']\n",
    "\n",
    "# Calcular la duración promedio de los viajes en sábados lluviosos\n",
    "mean_rainy_saturdays = rainy_saturdays['duration_seconds'].mean()\n",
    "\n",
    "# Calcular la duración promedio de los viajes en otros días (no sábados)\n",
    "other_days = duration_trip[duration_trip['day_of_week'] != 'Saturday']\n",
    "mean_other_days = other_days['duration_seconds'].mean()\n",
    "\n",
    "# Establecer el nivel de significación\n",
    "alpha = 0.15\n",
    "\n",
    "# Realizar la prueba t de Student\n",
    "t_stat, p_value = stats.ttest_ind(\n",
    "    rainy_saturdays['duration_seconds'],\n",
    "    other_days['duration_seconds'],\n",
    "    equal_var=False\n",
    ")\n",
    "\n",
    "# Imprimir resultados\n",
    "print(f'Duración promedio en sábados lluviosos: {mean_rainy_saturdays:.2f} segundos')\n",
    "print(f'Duración promedio en otros días: {mean_other_days:.2f} segundos')\n",
    "print(f'Estadística t: {t_stat:.2f}')\n",
    "print(f'Valor p: {p_value:.4f}')\n",
    "\n",
    "# Decisión sobre la hipótesis\n",
    "if p_value < alpha:\n",
    "    print('Rechazamos la hipótesis nula: la duración promedio de los viajes cambia los sábados lluviosos.')\n",
    "else:\n",
    "    print('No rechazamos la hipótesis nula: no hay evidencia suficiente para afirmar que la duración promedio de los viajes cambia los sábados lluviosos.')"
   ]
  },
  {
   "cell_type": "code",
   "execution_count": 26,
   "metadata": {
    "scrolled": true,
    "trusted": false
   },
   "outputs": [
    {
     "data": {
      "text/plain": [
       "array(['Good', 'Bad'], dtype=object)"
      ]
     },
     "execution_count": 26,
     "metadata": {},
     "output_type": "execute_result"
    }
   ],
   "source": [
    "duration_trip[\"weather_conditions\"].unique()"
   ]
  },
  {
   "cell_type": "code",
   "execution_count": 27,
   "metadata": {
    "trusted": false
   },
   "outputs": [
    {
     "data": {
      "text/html": [
       "<div>\n",
       "<style scoped>\n",
       "    .dataframe tbody tr th:only-of-type {\n",
       "        vertical-align: middle;\n",
       "    }\n",
       "\n",
       "    .dataframe tbody tr th {\n",
       "        vertical-align: top;\n",
       "    }\n",
       "\n",
       "    .dataframe thead th {\n",
       "        text-align: right;\n",
       "    }\n",
       "</style>\n",
       "<table border=\"1\" class=\"dataframe\">\n",
       "  <thead>\n",
       "    <tr style=\"text-align: right;\">\n",
       "      <th></th>\n",
       "      <th>start_ts</th>\n",
       "      <th>weather_conditions</th>\n",
       "      <th>duration_seconds</th>\n",
       "      <th>day_of_week</th>\n",
       "    </tr>\n",
       "  </thead>\n",
       "  <tbody>\n",
       "    <tr>\n",
       "      <th>0</th>\n",
       "      <td>2017-11-25 16:00:00</td>\n",
       "      <td>Good</td>\n",
       "      <td>2410.0</td>\n",
       "      <td>Saturday</td>\n",
       "    </tr>\n",
       "    <tr>\n",
       "      <th>1</th>\n",
       "      <td>2017-11-25 14:00:00</td>\n",
       "      <td>Good</td>\n",
       "      <td>1920.0</td>\n",
       "      <td>Saturday</td>\n",
       "    </tr>\n",
       "    <tr>\n",
       "      <th>2</th>\n",
       "      <td>2017-11-25 12:00:00</td>\n",
       "      <td>Good</td>\n",
       "      <td>1543.0</td>\n",
       "      <td>Saturday</td>\n",
       "    </tr>\n",
       "    <tr>\n",
       "      <th>3</th>\n",
       "      <td>2017-11-04 10:00:00</td>\n",
       "      <td>Good</td>\n",
       "      <td>2512.0</td>\n",
       "      <td>Saturday</td>\n",
       "    </tr>\n",
       "    <tr>\n",
       "      <th>4</th>\n",
       "      <td>2017-11-11 07:00:00</td>\n",
       "      <td>Good</td>\n",
       "      <td>1440.0</td>\n",
       "      <td>Saturday</td>\n",
       "    </tr>\n",
       "    <tr>\n",
       "      <th>...</th>\n",
       "      <td>...</td>\n",
       "      <td>...</td>\n",
       "      <td>...</td>\n",
       "      <td>...</td>\n",
       "    </tr>\n",
       "    <tr>\n",
       "      <th>1063</th>\n",
       "      <td>2017-11-25 11:00:00</td>\n",
       "      <td>Good</td>\n",
       "      <td>0.0</td>\n",
       "      <td>Saturday</td>\n",
       "    </tr>\n",
       "    <tr>\n",
       "      <th>1064</th>\n",
       "      <td>2017-11-11 10:00:00</td>\n",
       "      <td>Good</td>\n",
       "      <td>1318.0</td>\n",
       "      <td>Saturday</td>\n",
       "    </tr>\n",
       "    <tr>\n",
       "      <th>1065</th>\n",
       "      <td>2017-11-11 13:00:00</td>\n",
       "      <td>Good</td>\n",
       "      <td>2100.0</td>\n",
       "      <td>Saturday</td>\n",
       "    </tr>\n",
       "    <tr>\n",
       "      <th>1066</th>\n",
       "      <td>2017-11-11 08:00:00</td>\n",
       "      <td>Good</td>\n",
       "      <td>1380.0</td>\n",
       "      <td>Saturday</td>\n",
       "    </tr>\n",
       "    <tr>\n",
       "      <th>1067</th>\n",
       "      <td>2017-11-04 16:00:00</td>\n",
       "      <td>Bad</td>\n",
       "      <td>2834.0</td>\n",
       "      <td>Saturday</td>\n",
       "    </tr>\n",
       "  </tbody>\n",
       "</table>\n",
       "<p>1068 rows × 4 columns</p>\n",
       "</div>"
      ],
      "text/plain": [
       "                start_ts weather_conditions  duration_seconds day_of_week\n",
       "0    2017-11-25 16:00:00               Good            2410.0    Saturday\n",
       "1    2017-11-25 14:00:00               Good            1920.0    Saturday\n",
       "2    2017-11-25 12:00:00               Good            1543.0    Saturday\n",
       "3    2017-11-04 10:00:00               Good            2512.0    Saturday\n",
       "4    2017-11-11 07:00:00               Good            1440.0    Saturday\n",
       "...                  ...                ...               ...         ...\n",
       "1063 2017-11-25 11:00:00               Good               0.0    Saturday\n",
       "1064 2017-11-11 10:00:00               Good            1318.0    Saturday\n",
       "1065 2017-11-11 13:00:00               Good            2100.0    Saturday\n",
       "1066 2017-11-11 08:00:00               Good            1380.0    Saturday\n",
       "1067 2017-11-04 16:00:00                Bad            2834.0    Saturday\n",
       "\n",
       "[1068 rows x 4 columns]"
      ]
     },
     "execution_count": 27,
     "metadata": {},
     "output_type": "execute_result"
    }
   ],
   "source": [
    "duration_trip"
   ]
  },
  {
   "cell_type": "markdown",
   "metadata": {},
   "source": [
    "Conclusiones: Se puede observar que no hay relevancia en los días lluviosos para el aeropuesto de salida de lopp y Ohare, se realizó la prueba de hipotesis comparando el promedio de viajes entre los dias que no son sábado con el resto de la semana, se estableció un alpha del 0.15.\n",
    "    "
   ]
  },
  {
   "cell_type": "code",
   "execution_count": null,
   "metadata": {
    "trusted": false
   },
   "outputs": [],
   "source": []
  }
 ],
 "metadata": {
  "ExecuteTimeLog": [
   {
    "duration": 3,
    "start_time": "2024-09-22T05:00:28.282Z"
   },
   {
    "duration": 59,
    "start_time": "2024-09-22T05:00:31.477Z"
   },
   {
    "duration": 60,
    "start_time": "2024-09-22T05:01:36.701Z"
   },
   {
    "duration": 62,
    "start_time": "2024-09-22T05:05:05.820Z"
   },
   {
    "duration": 61,
    "start_time": "2024-09-22T05:05:56.459Z"
   },
   {
    "duration": 61,
    "start_time": "2024-09-22T05:12:45.387Z"
   },
   {
    "duration": 7,
    "start_time": "2024-09-22T05:22:18.020Z"
   },
   {
    "duration": 21,
    "start_time": "2024-09-22T05:25:32.739Z"
   },
   {
    "duration": 2,
    "start_time": "2024-09-22T05:25:36.657Z"
   },
   {
    "duration": 10,
    "start_time": "2024-09-22T05:25:39.649Z"
   },
   {
    "duration": 14,
    "start_time": "2024-09-22T05:26:01.901Z"
   },
   {
    "duration": 13,
    "start_time": "2024-09-22T05:26:32.568Z"
   },
   {
    "duration": 10,
    "start_time": "2024-09-22T05:26:55.117Z"
   },
   {
    "duration": 5,
    "start_time": "2024-09-22T05:27:35.329Z"
   },
   {
    "duration": 155,
    "start_time": "2024-09-22T16:55:03.319Z"
   },
   {
    "duration": 12,
    "start_time": "2024-09-22T16:55:27.206Z"
   },
   {
    "duration": 2496,
    "start_time": "2024-09-22T16:55:35.233Z"
   },
   {
    "duration": 21,
    "start_time": "2024-09-22T16:55:37.733Z"
   },
   {
    "duration": 9,
    "start_time": "2024-09-22T16:55:37.756Z"
   },
   {
    "duration": 8,
    "start_time": "2024-09-22T16:55:37.767Z"
   },
   {
    "duration": 3,
    "start_time": "2024-09-22T16:55:37.778Z"
   },
   {
    "duration": 23,
    "start_time": "2024-09-22T16:55:37.783Z"
   },
   {
    "duration": 10,
    "start_time": "2024-09-22T16:56:12.448Z"
   },
   {
    "duration": 4,
    "start_time": "2024-09-22T16:57:18.420Z"
   },
   {
    "duration": 4,
    "start_time": "2024-09-22T16:59:14.466Z"
   },
   {
    "duration": 3,
    "start_time": "2024-09-22T17:03:35.434Z"
   },
   {
    "duration": 213,
    "start_time": "2024-09-22T17:07:58.470Z"
   },
   {
    "duration": 4,
    "start_time": "2024-09-22T17:08:09.146Z"
   },
   {
    "duration": 163,
    "start_time": "2024-09-22T20:01:00.641Z"
   },
   {
    "duration": 12,
    "start_time": "2024-09-22T20:01:19.893Z"
   },
   {
    "duration": 2451,
    "start_time": "2024-09-22T20:01:24.592Z"
   },
   {
    "duration": 17,
    "start_time": "2024-09-22T20:01:27.045Z"
   },
   {
    "duration": 13,
    "start_time": "2024-09-22T20:01:30.085Z"
   },
   {
    "duration": 3,
    "start_time": "2024-09-22T20:01:33.428Z"
   },
   {
    "duration": 73,
    "start_time": "2024-09-22T20:03:45.609Z"
   },
   {
    "duration": 3,
    "start_time": "2024-09-22T20:04:00.470Z"
   },
   {
    "duration": 3,
    "start_time": "2024-09-22T20:04:08.753Z"
   },
   {
    "duration": 7,
    "start_time": "2024-09-22T20:16:20.764Z"
   },
   {
    "duration": 4,
    "start_time": "2024-09-22T20:22:20.034Z"
   },
   {
    "duration": 3,
    "start_time": "2024-09-22T20:22:24.922Z"
   },
   {
    "duration": 6,
    "start_time": "2024-09-22T20:22:37.927Z"
   },
   {
    "duration": 3,
    "start_time": "2024-09-22T20:22:42.636Z"
   },
   {
    "duration": 3,
    "start_time": "2024-09-22T20:22:49.934Z"
   },
   {
    "duration": 9,
    "start_time": "2024-09-22T20:24:50.589Z"
   },
   {
    "duration": 11,
    "start_time": "2024-09-22T20:25:15.163Z"
   },
   {
    "duration": 14,
    "start_time": "2024-09-22T20:27:35.522Z"
   },
   {
    "duration": 9,
    "start_time": "2024-09-22T20:27:48.424Z"
   },
   {
    "duration": 12,
    "start_time": "2024-09-22T20:27:52.976Z"
   },
   {
    "duration": 426,
    "start_time": "2024-09-22T20:31:24.575Z"
   },
   {
    "duration": 5,
    "start_time": "2024-09-22T20:31:48.638Z"
   },
   {
    "duration": 10,
    "start_time": "2024-09-22T20:32:27.282Z"
   },
   {
    "duration": 8,
    "start_time": "2024-09-22T20:40:05.657Z"
   },
   {
    "duration": 14,
    "start_time": "2024-09-22T21:06:40.736Z"
   },
   {
    "duration": 170,
    "start_time": "2024-09-22T21:08:19.273Z"
   },
   {
    "duration": 302,
    "start_time": "2024-09-22T21:12:26.075Z"
   },
   {
    "duration": 275,
    "start_time": "2024-09-22T21:13:32.080Z"
   },
   {
    "duration": 20,
    "start_time": "2024-09-22T21:42:35.647Z"
   },
   {
    "duration": 21,
    "start_time": "2024-09-22T21:46:03.883Z"
   },
   {
    "duration": 9,
    "start_time": "2024-09-22T21:46:48.303Z"
   },
   {
    "duration": 9,
    "start_time": "2024-09-22T21:47:25.874Z"
   },
   {
    "duration": 2530,
    "start_time": "2024-09-23T07:13:22.781Z"
   },
   {
    "duration": 20,
    "start_time": "2024-09-23T07:13:25.313Z"
   },
   {
    "duration": 9,
    "start_time": "2024-09-23T07:13:26.827Z"
   },
   {
    "duration": 9,
    "start_time": "2024-09-23T07:13:27.324Z"
   },
   {
    "duration": 4,
    "start_time": "2024-09-23T07:13:27.680Z"
   },
   {
    "duration": 4,
    "start_time": "2024-09-23T07:13:28.042Z"
   },
   {
    "duration": 4,
    "start_time": "2024-09-23T07:13:28.398Z"
   },
   {
    "duration": 7,
    "start_time": "2024-09-23T07:13:29.003Z"
   },
   {
    "duration": 3,
    "start_time": "2024-09-23T07:13:29.379Z"
   },
   {
    "duration": 7,
    "start_time": "2024-09-23T07:13:29.629Z"
   },
   {
    "duration": 10,
    "start_time": "2024-09-23T07:13:30.140Z"
   },
   {
    "duration": 7,
    "start_time": "2024-09-23T07:13:30.342Z"
   },
   {
    "duration": 5,
    "start_time": "2024-09-23T07:13:30.526Z"
   },
   {
    "duration": 4,
    "start_time": "2024-09-23T07:13:30.711Z"
   },
   {
    "duration": 3,
    "start_time": "2024-09-23T07:13:30.888Z"
   },
   {
    "duration": 9,
    "start_time": "2024-09-23T07:13:31.040Z"
   },
   {
    "duration": 10,
    "start_time": "2024-09-23T07:13:31.232Z"
   },
   {
    "duration": 4,
    "start_time": "2024-09-23T07:13:31.406Z"
   },
   {
    "duration": 5,
    "start_time": "2024-09-23T07:13:31.584Z"
   },
   {
    "duration": 10,
    "start_time": "2024-09-23T07:13:31.733Z"
   },
   {
    "duration": 289,
    "start_time": "2024-09-23T07:13:32.153Z"
   },
   {
    "duration": 10,
    "start_time": "2024-09-23T07:13:32.710Z"
   },
   {
    "duration": 2,
    "start_time": "2024-09-23T07:13:32.886Z"
   },
   {
    "duration": 7,
    "start_time": "2024-09-23T07:14:14.109Z"
   },
   {
    "duration": 10,
    "start_time": "2024-09-23T07:14:22.244Z"
   },
   {
    "duration": 8,
    "start_time": "2024-09-23T07:15:03.801Z"
   },
   {
    "duration": 10,
    "start_time": "2024-09-23T07:15:20.490Z"
   },
   {
    "duration": 12,
    "start_time": "2024-09-23T07:23:12.222Z"
   },
   {
    "duration": 13,
    "start_time": "2024-09-23T07:23:43.624Z"
   },
   {
    "duration": 5,
    "start_time": "2024-09-23T07:24:26.088Z"
   },
   {
    "duration": 4,
    "start_time": "2024-09-23T07:24:32.245Z"
   },
   {
    "duration": 2454,
    "start_time": "2024-10-01T19:15:41.127Z"
   },
   {
    "duration": 25,
    "start_time": "2024-10-01T19:15:43.583Z"
   },
   {
    "duration": 9,
    "start_time": "2024-10-01T19:15:43.610Z"
   },
   {
    "duration": 9,
    "start_time": "2024-10-01T19:15:43.621Z"
   },
   {
    "duration": 4,
    "start_time": "2024-10-01T19:15:43.631Z"
   },
   {
    "duration": 3,
    "start_time": "2024-10-01T19:15:43.636Z"
   },
   {
    "duration": 4,
    "start_time": "2024-10-01T19:15:43.641Z"
   },
   {
    "duration": 7,
    "start_time": "2024-10-01T19:15:43.646Z"
   },
   {
    "duration": 3,
    "start_time": "2024-10-01T19:15:43.654Z"
   },
   {
    "duration": 45,
    "start_time": "2024-10-01T19:15:43.660Z"
   },
   {
    "duration": 8,
    "start_time": "2024-10-01T19:15:43.707Z"
   },
   {
    "duration": 7,
    "start_time": "2024-10-01T19:15:43.717Z"
   },
   {
    "duration": 4,
    "start_time": "2024-10-01T19:15:43.726Z"
   },
   {
    "duration": 3,
    "start_time": "2024-10-01T19:15:43.732Z"
   },
   {
    "duration": 4,
    "start_time": "2024-10-01T19:15:43.737Z"
   },
   {
    "duration": 6,
    "start_time": "2024-10-01T19:15:43.743Z"
   },
   {
    "duration": 8,
    "start_time": "2024-10-01T19:15:43.751Z"
   },
   {
    "duration": 46,
    "start_time": "2024-10-01T19:15:43.760Z"
   },
   {
    "duration": 5,
    "start_time": "2024-10-01T19:15:43.808Z"
   },
   {
    "duration": 10,
    "start_time": "2024-10-01T19:15:43.814Z"
   },
   {
    "duration": 280,
    "start_time": "2024-10-01T19:15:43.825Z"
   },
   {
    "duration": 9,
    "start_time": "2024-10-01T19:15:44.107Z"
   },
   {
    "duration": 3,
    "start_time": "2024-10-01T19:15:44.118Z"
   },
   {
    "duration": 209,
    "start_time": "2024-10-01T19:17:49.329Z"
   },
   {
    "duration": 13,
    "start_time": "2024-10-01T19:18:36.798Z"
   },
   {
    "duration": 4,
    "start_time": "2024-10-01T19:18:44.173Z"
   },
   {
    "duration": 10,
    "start_time": "2024-10-01T19:19:11.738Z"
   },
   {
    "duration": 8,
    "start_time": "2024-10-01T19:20:47.123Z"
   }
  ],
  "kernelspec": {
   "display_name": "Python 3 (ipykernel)",
   "language": "python",
   "name": "python3"
  },
  "language_info": {
   "codemirror_mode": {
    "name": "ipython",
    "version": 3
   },
   "file_extension": ".py",
   "mimetype": "text/x-python",
   "name": "python",
   "nbconvert_exporter": "python",
   "pygments_lexer": "ipython3",
   "version": "3.9.19"
  },
  "toc": {
   "base_numbering": 1,
   "nav_menu": {},
   "number_sections": true,
   "sideBar": true,
   "skip_h1_title": true,
   "title_cell": "Table of Contents",
   "title_sidebar": "Contents",
   "toc_cell": false,
   "toc_position": {},
   "toc_section_display": true,
   "toc_window_display": false
  }
 },
 "nbformat": 4,
 "nbformat_minor": 2
}
